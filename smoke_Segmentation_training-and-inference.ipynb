{
  "nbformat": 4,
  "nbformat_minor": 0,
  "metadata": {
    "colab": {
      "name": "MakeVideo.ipynb",
      "version": "0.3.2",
      "provenance": [],
      "collapsed_sections": []
    },
    "kernelspec": {
      "name": "python3",
      "display_name": "Python 3"
    }
  },
  "cells": [
    {
      "cell_type": "code",
      "metadata": {
        "id": "c_XMtJbGZ3aj",
        "colab_type": "code",
        "colab": {}
      },
      "source": [
        "import cv2\n",
        "import numpy as np\n",
        "import tensorflow as tf\n",
        "from tensorflow.keras.models import load_model\n",
        "from tensorflow.keras.backend import set_session, set_floatx\n",
        "from skimage.transform import resize"
      ],
      "execution_count": 0,
      "outputs": []
    },
    {
      "cell_type": "code",
      "metadata": {
        "id": "q8-NkFPuZ3ao",
        "colab_type": "code",
        "colab": {}
      },
      "source": [
        "cd .."
      ],
      "execution_count": 0,
      "outputs": []
    },
    {
      "cell_type": "code",
      "metadata": {
        "id": "dJib4VUWZ3ar",
        "colab_type": "code",
        "colab": {}
      },
      "source": [
        "from tall_timbers_model.util.vis import view_seg_map\n",
        "\n",
        "from tall_timbers_model.config import Config\n",
        "from tall_timbers_model.models.floornet import SegModel"
      ],
      "execution_count": 0,
      "outputs": []
    },
    {
      "cell_type": "code",
      "metadata": {
        "id": "VXyAzNxeZ3ax",
        "colab_type": "code",
        "colab": {}
      },
      "source": [
        "cap = cv2.VideoCapture(\"/path/01TP_extract.avi\")\n",
        "_, frame = cap.read()\n",
        "out = cv2.VideoWriter(\"/hdd/videos/out_cvid.avi\",\n",
        "                      cv2.VideoWriter_fourcc(\"M\", \"J\", \"P\", \"G\"), 10,\n",
        "                      (frame.shape[1], frame.shape[0]))\n",
        "xcount = 0"
      ],
      "execution_count": 0,
      "outputs": []
    },
    {
      "cell_type": "code",
      "metadata": {
        "id": "dsTXC4X9Z3a0",
        "colab_type": "code",
        "colab": {}
      },
      "source": [
        "\n",
        "config = Config()\n",
        "config.init_weights = None\n",
        "config.image_size = (224, 224)\n",
        "config.input_shape = (config.image_size[0], config.image_size[1], 3)\n",
        "\n",
        "model = SegModel(config)\n",
        "model.load_weights(\"/hdd/model.h5\")"
      ],
      "execution_count": 0,
      "outputs": []
    },
    {
      "cell_type": "code",
      "metadata": {
        "id": "xdvp3GQxZ3a2",
        "colab_type": "code",
        "colab": {}
      },
      "source": [
        "for i in range(200, 1000):\n",
        "    ret, frame = cap.read()\n",
        "    if not ret:\n",
        "        break\n",
        "    \n",
        "    img = frame\n",
        "    img = cv2.resize(img, (224, 224))\n",
        "    \n",
        "    img2 = cv2.cvtColor(img, cv2.COLOR_BGR2GRAY)\n",
        "    x = cv2.Sobel(img2, cv2.CV_32F, 1, 0, ksize=3)\n",
        "    x = cv2.convertScaleAbs(x) / 255.0\n",
        "    x = x.reshape((x.shape[0], x.shape[1], 1))\n",
        "    y = cv2.Sobel(img2, cv2.CV_32F, 0, 1, ksize=3)\n",
        "    y = cv2.convertScaleAbs(y) / 255.0\n",
        "    y = y.reshape((y.shape[0], y.shape[1], 1))\n",
        "    z = cv2.Laplacian(img2, cv2.CV_32F)\n",
        "    z = cv2.convertScaleAbs(z) / 255.0\n",
        "    z = z.reshape((z.shape[0], z.shape[1], 1))\n",
        "    image2 = np.concatenate((x, y, z), axis=2)\n",
        "    image2 = cv2.resize(image2, (112, 112))\n",
        "    nnInput = np.array(img, dtype=np.float32) / 255.0\n",
        "    \n",
        "    nnInput = 2 * (nnInput - 0.5)\n",
        "    image2 = 2 * (image2 - 0.5)\n",
        "    \n",
        "    data = model.predict([nnInput[:, :, ::-1].reshape((1, 224, 224, 3)), image2.reshape((1, 112, 112, 3))])\n",
        "    seg = data[0].argmax(axis=2).astype(np.float32)\n",
        "    seg = resize(seg, (frame.shape[0], frame.shape[1])).reshape((frame.shape[0], frame.shape[1], 1))\n",
        "    seg = np.around(seg)\n",
        "\n",
        "    vis = view_seg_map(frame, seg, color=(0, 255, 0))\n",
        "    \n",
        "    print(vis.shape)\n",
        "    out.write(vis)\n",
        "    print(xcount)\n",
        "    xcount = xcount + 1\n",
        "\n",
        "cap.release()\n",
        "out.release()"
      ],
      "execution_count": 0,
      "outputs": []
    },
    {
      "cell_type": "code",
      "metadata": {
        "id": "--R6P8qxZ3a5",
        "colab_type": "code",
        "colab": {}
      },
      "source": [
        "data = model.predict([nnInput.reshape((1, 224, 224, 3)), image2.reshape((1, 112, 112, 3))])"
      ],
      "execution_count": 0,
      "outputs": []
    },
    {
      "cell_type": "code",
      "metadata": {
        "id": "mlX6IsIUZ3a7",
        "colab_type": "code",
        "colab": {}
      },
      "source": [
        "seg = data[0].argmax(axis=2)"
      ],
      "execution_count": 0,
      "outputs": []
    },
    {
      "cell_type": "code",
      "metadata": {
        "id": "pX2_ilcxZ3a_",
        "colab_type": "code",
        "colab": {}
      },
      "source": [
        "import matplotlib\n",
        "%matplotlib inline\n",
        "import matplotlib.pyplot as plt"
      ],
      "execution_count": 0,
      "outputs": []
    },
    {
      "cell_type": "code",
      "metadata": {
        "id": "qZmK7qTzZ3bB",
        "colab_type": "code",
        "colab": {}
      },
      "source": [
        "vis = view_seg_map(img, seg, color=(0, 255, 0))"
      ],
      "execution_count": 0,
      "outputs": []
    }
  ]
}